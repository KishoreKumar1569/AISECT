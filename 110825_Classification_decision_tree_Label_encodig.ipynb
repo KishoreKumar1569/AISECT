{
  "nbformat": 4,
  "nbformat_minor": 0,
  "metadata": {
    "colab": {
      "provenance": []
    },
    "kernelspec": {
      "name": "python3",
      "display_name": "Python 3"
    },
    "language_info": {
      "name": "python"
    }
  },
  "cells": [
    {
      "cell_type": "code",
      "source": [
        "import pandas as pd\n",
        "from sklearn.model_selection import train_test_split\n",
        "from sklearn.preprocessing import LabelEncoder\n",
        "from sklearn.tree import DecisionTreeClassifier\n",
        "from sklearn.metrics import accuracy_score, classification_report\n",
        "\n",
        "# Load dataset\\\n",
        "dataset = pd.read_csv(\"titanic.csv\")\n",
        "\n",
        "# Drop rows with missing values in these columns for simplicity\n",
        "dataset = dataset[['Pclass', 'Sex', 'Age', 'SibSp', 'Parch', 'Fare', 'Embarked', 'Survived']].dropna()\n",
        "\n",
        "# Label Encoding for categorical columns\n",
        "label_encoder = LabelEncoder()\n",
        "dataset['Sex'] = label_encoder.fit_transform(dataset['Sex'])  # Male=1, Female=0 (order may vary)\n",
        "dataset['Embarked'] = label_encoder.fit_transform(dataset['Embarked'])  # C=0, Q=1, S=2 (order may vary)\n",
        "\n",
        "# Split features (X) and target (y)\n",
        "X = dataset.drop('Survived', axis=1)\n",
        "y = dataset['Survived']\n",
        "\n",
        "# Train-test split\n",
        "X_train, X_test, y_train, y_test = train_test_split(X, y, test_size=0.2, random_state=42)\n",
        "\n",
        "# train Decision Tree Classifier\n",
        "model = DecisionTreeClassifier(random_state=42)\n",
        "model.fit(X_train, y_train)\n",
        "\n",
        "# Make predictions\n",
        "y_pred = model.predict(X_test)\n",
        "\n",
        "# \\Evaluate model\n",
        "print(\"Accuracy:\", accuracy_score(y_test, y_pred))\n",
        "print(\"\\nClassification Report:\\n\", classification_report(y_test, y_pred))\n"
      ],
      "metadata": {
        "colab": {
          "base_uri": "https://localhost:8080/"
        },
        "id": "3mBkuXmLsqZU",
        "outputId": "930a440e-8141-4508-fcd6-cbc6bdf4a46b"
      },
      "execution_count": null,
      "outputs": [
        {
          "output_type": "stream",
          "name": "stdout",
          "text": [
            "Accuracy: 0.7062937062937062\n",
            "\n",
            "Classification Report:\n",
            "               precision    recall  f1-score   support\n",
            "\n",
            "           0       0.72      0.79      0.75        80\n",
            "           1       0.69      0.60      0.64        63\n",
            "\n",
            "    accuracy                           0.71       143\n",
            "   macro avg       0.70      0.70      0.70       143\n",
            "weighted avg       0.70      0.71      0.70       143\n",
            "\n"
          ]
        }
      ]
    }
  ]
}